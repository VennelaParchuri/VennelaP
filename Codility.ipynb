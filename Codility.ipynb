{
 "cells": [
  {
   "cell_type": "code",
   "execution_count": 1,
   "id": "fb0a498c",
   "metadata": {},
   "outputs": [],
   "source": [
    "#BinaryGap"
   ]
  },
  {
   "cell_type": "code",
   "execution_count": 55,
   "id": "9ecab2ff",
   "metadata": {},
   "outputs": [],
   "source": [
    "def binaryGap(num):\n",
    "    num1 = bin(num)[2:]\n",
    "    countZero = 0\n",
    "    result = 0\n",
    "    \n",
    "    for i in num1:\n",
    "        if int(i)==0:\n",
    "            countZero+=1\n",
    "        elif int(i)==1:\n",
    "            result = max(result,countZero)\n",
    "            countZero = 0\n",
    "    return result"
   ]
  },
  {
   "cell_type": "code",
   "execution_count": 57,
   "id": "3784a4fc",
   "metadata": {},
   "outputs": [
    {
     "data": {
      "text/plain": [
       "0"
      ]
     },
     "execution_count": 57,
     "metadata": {},
     "output_type": "execute_result"
    }
   ],
   "source": [
    "binaryGap(32)"
   ]
  },
  {
   "cell_type": "code",
   "execution_count": 58,
   "id": "8382ce9e",
   "metadata": {},
   "outputs": [],
   "source": [
    "# Rotation of an array"
   ]
  },
  {
   "cell_type": "code",
   "execution_count": 64,
   "id": "668c6f1a",
   "metadata": {},
   "outputs": [],
   "source": [
    "def arrayRotate(arr,num):\n",
    "    \n",
    "    if len(arr) == 0:\n",
    "        return arr\n",
    "    mod_k = (len(arr)+num)% (len(arr))\n",
    "    if mod_k == 0:\n",
    "        return arr\n",
    "    head = arr[:-mod_k]\n",
    "    tail = arr[len(arr)-mod_k:]\n",
    "    return tail+head\n",
    "        "
   ]
  },
  {
   "cell_type": "code",
   "execution_count": 65,
   "id": "4724120f",
   "metadata": {},
   "outputs": [
    {
     "data": {
      "text/plain": [
       "[]"
      ]
     },
     "execution_count": 65,
     "metadata": {},
     "output_type": "execute_result"
    }
   ],
   "source": [
    "arrayRotate([], 3)"
   ]
  },
  {
   "cell_type": "code",
   "execution_count": 66,
   "id": "849958a1",
   "metadata": {},
   "outputs": [],
   "source": [
    "# OddOccurrencesInArray"
   ]
  },
  {
   "cell_type": "code",
   "execution_count": 67,
   "id": "eeaab0ba",
   "metadata": {},
   "outputs": [],
   "source": [
    "def oddOcc(A):\n",
    "    if len(A)==1:\n",
    "        return A[0]\n",
    "    A.sort()\n",
    "    for i in range(0,len(A)-1,2):\n",
    "        if A[i]!=A[i+1]:\n",
    "            return A[i]\n",
    "    return A[-1]"
   ]
  },
  {
   "cell_type": "code",
   "execution_count": 68,
   "id": "5e58de58",
   "metadata": {},
   "outputs": [
    {
     "data": {
      "text/plain": [
       "7"
      ]
     },
     "execution_count": 68,
     "metadata": {},
     "output_type": "execute_result"
    }
   ],
   "source": [
    "oddOcc([9, 3, 9, 3, 9, 7, 9])"
   ]
  },
  {
   "cell_type": "code",
   "execution_count": 69,
   "id": "9f2321b4",
   "metadata": {},
   "outputs": [],
   "source": [
    "# FrogJmp Count minimal number of jumps from position X to Y."
   ]
  },
  {
   "cell_type": "code",
   "execution_count": 81,
   "id": "bc668822",
   "metadata": {},
   "outputs": [],
   "source": [
    "import math\n",
    "def frogJmp(x,y,d):\n",
    "    re = (y-x)/d\n",
    "    return math.ceil(re)"
   ]
  },
  {
   "cell_type": "code",
   "execution_count": 82,
   "id": "4dde90a7",
   "metadata": {},
   "outputs": [
    {
     "data": {
      "text/plain": [
       "2"
      ]
     },
     "execution_count": 82,
     "metadata": {},
     "output_type": "execute_result"
    }
   ],
   "source": [
    "frogJmp(9,29,10)"
   ]
  },
  {
   "cell_type": "code",
   "execution_count": 83,
   "id": "e50378e1",
   "metadata": {},
   "outputs": [],
   "source": [
    "# PermMissingEle  Find the missing element in a given permutation"
   ]
  },
  {
   "cell_type": "code",
   "execution_count": 182,
   "id": "333e6893",
   "metadata": {},
   "outputs": [],
   "source": [
    "def perMisEle(A):\n",
    "    full_list = range(1,len(A)+2)\n",
    "    return sum(full_list)-sum(A)\n"
   ]
  },
  {
   "cell_type": "code",
   "execution_count": 183,
   "id": "ef4c8cf0",
   "metadata": {},
   "outputs": [
    {
     "name": "stdout",
     "output_type": "stream",
     "text": [
      "1\n"
     ]
    },
    {
     "data": {
      "text/plain": [
       "1"
      ]
     },
     "execution_count": 183,
     "metadata": {},
     "output_type": "execute_result"
    }
   ],
   "source": [
    "perMisEle([])"
   ]
  },
  {
   "cell_type": "code",
   "execution_count": 101,
   "id": "f74c9c57",
   "metadata": {},
   "outputs": [],
   "source": [
    "# TapeEquilibrium Minimize the value |(A[0] + ... + A[P-1]) - (A[P] + ... + A[N-1])|"
   ]
  },
  {
   "cell_type": "code",
   "execution_count": 119,
   "id": "57affa93",
   "metadata": {},
   "outputs": [],
   "source": [
    "# own \n",
    "def tapeEqui(A):\n",
    "    if len(A)<2:\n",
    "        return 0\n",
    "    result = 2000\n",
    "    for i in range(1,len(A)):\n",
    "        m = A[i:]\n",
    "        q = A[:i]\n",
    "        result= min(abs(sum(m)-sum(q)),result)\n",
    "    return result"
   ]
  },
  {
   "cell_type": "code",
   "execution_count": 120,
   "id": "d5063718",
   "metadata": {},
   "outputs": [
    {
     "data": {
      "text/plain": [
       "2000"
      ]
     },
     "execution_count": 120,
     "metadata": {},
     "output_type": "execute_result"
    }
   ],
   "source": [
    "tapeEqui([-1000,1000])"
   ]
  },
  {
   "cell_type": "code",
   "execution_count": 157,
   "id": "5900267d",
   "metadata": {},
   "outputs": [],
   "source": [
    "def tapeEqiGit(A):\n",
    "    sum_left = 0\n",
    "    sum_right = sum(A)\n",
    "    best = None\n",
    "    for i in range(0,len(A)-1):\n",
    "        sum_left+=A[i]\n",
    "        sum_right-=A[i]\n",
    "        diff = abs(sum_left - sum_right)\n",
    "        best = diff if best is None or diff< best else best\n",
    "    return best"
   ]
  },
  {
   "cell_type": "code",
   "execution_count": 158,
   "id": "35530aef",
   "metadata": {},
   "outputs": [
    {
     "data": {
      "text/plain": [
       "2000"
      ]
     },
     "execution_count": 158,
     "metadata": {},
     "output_type": "execute_result"
    }
   ],
   "source": [
    "tapeEqiGit([1000,-1000])"
   ]
  },
  {
   "cell_type": "code",
   "execution_count": 156,
   "id": "702030ca",
   "metadata": {},
   "outputs": [
    {
     "data": {
      "text/plain": [
       "'+--++'"
      ]
     },
     "execution_count": 156,
     "metadata": {},
     "output_type": "execute_result"
    }
   ],
   "source": [
    "strn= 'plusminusminusplusplus'\n",
    "str2=strn.replace('plus','+')\n",
    "str2.replace('minus','-')"
   ]
  },
  {
   "cell_type": "code",
   "execution_count": 159,
   "id": "fa51b701",
   "metadata": {},
   "outputs": [],
   "source": [
    "# FrogRiverOne Find the earliest time when a frog can jump to the other side of a river"
   ]
  },
  {
   "cell_type": "code",
   "execution_count": 160,
   "id": "4a3ed11d",
   "metadata": {},
   "outputs": [],
   "source": [
    "def frogRiver(ar,pos):\n",
    "    seen = []\n",
    "    for time,position in enumerate(ar):\n",
    "        if position<=pos and position not in seen:\n",
    "            seen.append(position)\n",
    "            if len(seen)==pos:\n",
    "                return time\n",
    "            \n",
    "    return -1\n",
    "            "
   ]
  },
  {
   "cell_type": "code",
   "execution_count": 170,
   "id": "84e80c68",
   "metadata": {},
   "outputs": [
    {
     "data": {
      "text/plain": [
       "5"
      ]
     },
     "execution_count": 170,
     "metadata": {},
     "output_type": "execute_result"
    }
   ],
   "source": [
    "frogRiver([1,3,1,4,5,2,3,5,4],5)"
   ]
  },
  {
   "cell_type": "code",
   "execution_count": 171,
   "id": "be9c3645",
   "metadata": {},
   "outputs": [],
   "source": [
    "def frogRiverGit(ar,pos):\n",
    "    seen = set()\n",
    "    for time,position in enumerate(ar):\n",
    "        if position <=pos:\n",
    "            seen.add(position)\n",
    "            if len(seen)>=pos:\n",
    "                return time\n",
    "    return -1\n",
    "            \n",
    "            "
   ]
  },
  {
   "cell_type": "code",
   "execution_count": 172,
   "id": "f0c9186a",
   "metadata": {},
   "outputs": [],
   "source": [
    "def solution(X, A):\n",
    "    leaves = set()\n",
    "    for time,leaf in enumerate(A):\n",
    "        if leaf<=X:\n",
    "            leaves.add(leaf)\n",
    "            if len(leaves)==X:\n",
    "                return time\n",
    "    return -1"
   ]
  },
  {
   "cell_type": "code",
   "execution_count": 173,
   "id": "51d34a0e",
   "metadata": {},
   "outputs": [],
   "source": [
    "#PermCheck Check whether array A is a permutation."
   ]
  },
  {
   "cell_type": "code",
   "execution_count": 217,
   "id": "cc281609",
   "metadata": {},
   "outputs": [],
   "source": [
    "def permCheck(A):\n",
    "    full_list = list(range(1,max(A)+1))\n",
    "    print(full_list)\n",
    "    A.sort()\n",
    "    print(A)\n",
    "    if sum(full_list)==sum(A) and full_list==A:\n",
    "        return 1\n",
    "    else:\n",
    "        return 0"
   ]
  },
  {
   "cell_type": "code",
   "execution_count": 219,
   "id": "9c3ca8ba",
   "metadata": {},
   "outputs": [
    {
     "name": "stdout",
     "output_type": "stream",
     "text": [
      "[1, 2, 3, 4]\n",
      "[1, 2, 4]\n"
     ]
    },
    {
     "data": {
      "text/plain": [
       "0"
      ]
     },
     "execution_count": 219,
     "metadata": {},
     "output_type": "execute_result"
    }
   ],
   "source": [
    "permCheck([1,2,4])"
   ]
  },
  {
   "cell_type": "code",
   "execution_count": 220,
   "id": "c9d592dd",
   "metadata": {},
   "outputs": [
    {
     "name": "stdout",
     "output_type": "stream",
     "text": [
      "A\n",
      "[1, 2, 3, 4]\n"
     ]
    }
   ],
   "source": [
    "A = [1,2,3,4]\n",
    "B = [1,2,3,4]\n",
    "\n",
    "if A==B:\n",
    "    print('A')\n",
    "    print(A)"
   ]
  },
  {
   "cell_type": "code",
   "execution_count": 221,
   "id": "c375a810",
   "metadata": {},
   "outputs": [],
   "source": [
    "def permCheckGit(A):\n",
    "    if not len(A):\n",
    "        return 0\n",
    "    collection = set()\n",
    "    length = 0\n",
    "    for i in A:\n",
    "        if i> len(A):\n",
    "            return 0\n",
    "        collection.add(i)\n",
    "        length+=1\n",
    "        if len(collection)!=length:\n",
    "            return 0\n",
    "    return 1\n",
    "        "
   ]
  },
  {
   "cell_type": "code",
   "execution_count": 222,
   "id": "05407d34",
   "metadata": {},
   "outputs": [],
   "source": [
    "# MaxCounters \n",
    "# Calculate the values of counters after applying all alternating operations: increase counter by 1; \n",
    "# set value of all counters to current maximum."
   ]
  },
  {
   "cell_type": "code",
   "execution_count": 227,
   "id": "73dd38b1",
   "metadata": {},
   "outputs": [],
   "source": [
    "# 77%\n",
    "def maxCounters(A,N):\n",
    "    counters = [0]*N\n",
    "    maxC = 0\n",
    "    for i in A:\n",
    "        if i<=N:\n",
    "            counters[i-1]+=1\n",
    "            maxC= max(counters[i-1],maxC)\n",
    "        else:\n",
    "            counters = [maxC]*N\n",
    "    return counters"
   ]
  },
  {
   "cell_type": "code",
   "execution_count": 231,
   "id": "ab25bb28",
   "metadata": {},
   "outputs": [
    {
     "data": {
      "text/plain": [
       "[2]"
      ]
     },
     "execution_count": 231,
     "metadata": {},
     "output_type": "execute_result"
    }
   ],
   "source": [
    "maxCounters([1,2,3,3,4,1],1)"
   ]
  },
  {
   "cell_type": "code",
   "execution_count": 250,
   "id": "deefba1b",
   "metadata": {},
   "outputs": [],
   "source": [
    "def maxCounters(A,N):\n",
    "    counters = [0]*N\n",
    "    maxC = 0\n",
    "    tempC = 0\n",
    "    for i in A:\n",
    "        if i<=N:\n",
    "            counters[i-1]= max(tempC,counters[i-1])+1\n",
    "            maxC = max(maxC,counters[i-1])\n",
    "        else:\n",
    "            tempC=maxC\n",
    "    print(counters)\n",
    "    print(tempC)\n",
    "    for j in range(len(counters)):\n",
    "        if counters[j]< tempC:\n",
    "            counters[j]=tempC\n",
    "    return counters"
   ]
  },
  {
   "cell_type": "code",
   "execution_count": 251,
   "id": "ebac7bd2",
   "metadata": {},
   "outputs": [
    {
     "name": "stdout",
     "output_type": "stream",
     "text": [
      "[3, 0, 1, 4, 0]\n",
      "2\n"
     ]
    },
    {
     "data": {
      "text/plain": [
       "[3, 2, 2, 4, 2]"
      ]
     },
     "execution_count": 251,
     "metadata": {},
     "output_type": "execute_result"
    }
   ],
   "source": [
    "maxCounters([3, 4, 4, 6, 1, 4, 4],5)"
   ]
  },
  {
   "cell_type": "code",
   "execution_count": 252,
   "id": "9eee6471",
   "metadata": {},
   "outputs": [],
   "source": [
    "# Given an array A of N integers, returns the smallest positive integer (greater than 0) that does not occur in A."
   ]
  },
  {
   "cell_type": "code",
   "execution_count": 256,
   "id": "9c032722",
   "metadata": {},
   "outputs": [],
   "source": [
    "def arPosIn(A):\n",
    "    if max(A)<=0:\n",
    "        return 1\n",
    "    A.sort()\n",
    "    sList = [x for x in A if x>0]\n",
    "    if 1 not in sList:\n",
    "        return 1\n",
    "    for i in range(len(sList)-1):\n",
    "        diff = sList[i+1]-sList[i]\n",
    "        if diff>=2:\n",
    "            return sList[i]+1\n",
    "    return max(sList)+1"
   ]
  },
  {
   "cell_type": "code",
   "execution_count": 259,
   "id": "5beb5324",
   "metadata": {},
   "outputs": [
    {
     "data": {
      "text/plain": [
       "1"
      ]
     },
     "execution_count": 259,
     "metadata": {},
     "output_type": "execute_result"
    }
   ],
   "source": [
    "arPosIn([5, 3, 6, 4, 7, 2])"
   ]
  },
  {
   "cell_type": "code",
   "execution_count": 260,
   "id": "62ba3b75",
   "metadata": {},
   "outputs": [],
   "source": [
    "# PassingCars Count the number of passing cars on the road."
   ]
  },
  {
   "cell_type": "code",
   "execution_count": 273,
   "id": "00198739",
   "metadata": {},
   "outputs": [],
   "source": [
    "def passCar(A):\n",
    "    list1 = []\n",
    "    for i in range(0,len(A)):\n",
    "        for j in range(i,len(A)):\n",
    "            if A[i]==0 and A[j]==1:\n",
    "                list1.append((i,j))\n",
    "    return len(list1)"
   ]
  },
  {
   "cell_type": "code",
   "execution_count": 278,
   "id": "eb2c4c93",
   "metadata": {},
   "outputs": [
    {
     "data": {
      "text/plain": [
       "2"
      ]
     },
     "execution_count": 278,
     "metadata": {},
     "output_type": "execute_result"
    }
   ],
   "source": [
    "passCar([1,0,1,1])"
   ]
  },
  {
   "cell_type": "code",
   "execution_count": 279,
   "id": "019be0b9",
   "metadata": {},
   "outputs": [],
   "source": [
    "def passCar(A):\n",
    "    east=0\n",
    "    passing = 0\n",
    "    for i in A:\n",
    "        if i==0:\n",
    "            east+=1\n",
    "        else:\n",
    "            passing+=east\n",
    "        if passing> 1000000000:\n",
    "            return -1\n",
    "    return passing\n",
    "            "
   ]
  },
  {
   "cell_type": "code",
   "execution_count": 280,
   "id": "14c48e93",
   "metadata": {},
   "outputs": [
    {
     "data": {
      "text/plain": [
       "2"
      ]
     },
     "execution_count": 280,
     "metadata": {},
     "output_type": "execute_result"
    }
   ],
   "source": [
    "passCar([1,0,1,1])"
   ]
  },
  {
   "cell_type": "code",
   "execution_count": 282,
   "id": "6d4dedd7",
   "metadata": {},
   "outputs": [],
   "source": [
    "# CountDiv Compute number of integers divisible by k in range [a..b]"
   ]
  },
  {
   "cell_type": "code",
   "execution_count": 286,
   "id": "3410ad10",
   "metadata": {},
   "outputs": [],
   "source": [
    "def countDiv(A,B,K):\n",
    "    count = 0\n",
    "    for i in range(A,B+1):\n",
    "        if i%K == 0:\n",
    "            count+=1\n",
    "    return count\n",
    "            \n",
    "        "
   ]
  },
  {
   "cell_type": "code",
   "execution_count": 287,
   "id": "ed14f73e",
   "metadata": {},
   "outputs": [
    {
     "data": {
      "text/plain": [
       "6"
      ]
     },
     "execution_count": 287,
     "metadata": {},
     "output_type": "execute_result"
    }
   ],
   "source": [
    "countDiv(0,11,2)"
   ]
  },
  {
   "cell_type": "code",
   "execution_count": 288,
   "id": "3c3178b5",
   "metadata": {},
   "outputs": [],
   "source": [
    "def countDiv(A,B,K):\n",
    "    return B//K - (A-1)//K"
   ]
  },
  {
   "cell_type": "code",
   "execution_count": 289,
   "id": "4cc98ed8",
   "metadata": {},
   "outputs": [
    {
     "data": {
      "text/plain": [
       "6"
      ]
     },
     "execution_count": 289,
     "metadata": {},
     "output_type": "execute_result"
    }
   ],
   "source": [
    "countDiv(0,11,2)"
   ]
  },
  {
   "cell_type": "code",
   "execution_count": 295,
   "id": "b51114e6",
   "metadata": {},
   "outputs": [
    {
     "name": "stdout",
     "output_type": "stream",
     "text": [
      "[1, 2, 3, 4]\n"
     ]
    }
   ],
   "source": [
    "strn =[1,2,4,3]\n",
    "strn1=sorted(strn)\n",
    "print(strn1)"
   ]
  },
  {
   "cell_type": "code",
   "execution_count": 296,
   "id": "da5192bf",
   "metadata": {},
   "outputs": [],
   "source": [
    "# GenomicRangeQuery Find the minimal nucleotide from a range of sequence DNA."
   ]
  },
  {
   "cell_type": "code",
   "execution_count": 297,
   "id": "43aff77e",
   "metadata": {},
   "outputs": [],
   "source": [
    "def genRang(G,P,Q):\n",
    "    genDict = {'A':1,'C':2,'G':3,'T':4}\n",
    "    result =[]\n",
    "    for p,q in zip(P,Q):\n",
    "        genStr= sorted(G[p:q+1])\n",
    "        result.append(genDict[genStr[0]])\n",
    "    return result\n",
    "        \n",
    "    "
   ]
  },
  {
   "cell_type": "code",
   "execution_count": 298,
   "id": "6a0bcc3b",
   "metadata": {},
   "outputs": [
    {
     "data": {
      "text/plain": [
       "[2, 4, 1]"
      ]
     },
     "execution_count": 298,
     "metadata": {},
     "output_type": "execute_result"
    }
   ],
   "source": [
    "genRang(\"CAGCCTA\", [2, 5, 0], [4, 5, 6])"
   ]
  },
  {
   "cell_type": "code",
   "execution_count": 302,
   "id": "ca811f22",
   "metadata": {},
   "outputs": [],
   "source": [
    "def genRang(S,P,Q):\n",
    "    result = []\n",
    "    for i in range(0,len(P)):\n",
    "        subStr = S[P[i]:Q[i]+1]\n",
    "        if 'A' in subStr:\n",
    "            result.append(1)\n",
    "        elif 'C' in subStr:\n",
    "            result.append(2)\n",
    "        elif 'G' in subStr:\n",
    "            result.append(3)\n",
    "        elif 'T' in subStr:\n",
    "            result.append(4)\n",
    "    return result"
   ]
  },
  {
   "cell_type": "code",
   "execution_count": 303,
   "id": "0204d2d0",
   "metadata": {},
   "outputs": [
    {
     "data": {
      "text/plain": [
       "[2, 4, 1]"
      ]
     },
     "execution_count": 303,
     "metadata": {},
     "output_type": "execute_result"
    }
   ],
   "source": [
    "genRang(\"CAGCCTA\", [2, 5, 0], [4, 5, 6])"
   ]
  },
  {
   "cell_type": "code",
   "execution_count": 304,
   "id": "aa190488",
   "metadata": {},
   "outputs": [],
   "source": [
    "# MinAvgTwoSlice Find the minimal average of any slice containing at least two elements.\n",
    "# for every average of 4 numbers there will be a set of 3 or 2 numbers whose average is lesser\n",
    "# So the problem boils down to finding the average of 3 and two sets"
   ]
  },
  {
   "cell_type": "code",
   "execution_count": 305,
   "id": "3cc3e13a",
   "metadata": {},
   "outputs": [],
   "source": [
    "def minAvgTwoSlice(A):\n",
    "    minAvg = max(A)*2\n",
    "    minIn = 0\n",
    "    for i in range(0,len(A)-2):\n",
    "        thAvg = (A[i]+A[i+1]+A[i+2])/3\n",
    "        twAvg = (A[i]+A[i+1])/2\n",
    "        if minAvg>thAvg or minAvg>twAvg:\n",
    "            minAvg= min(thAvg,twAvg)\n",
    "            minIn = i\n",
    "    if minAvg> (A[-1]+A[-2])/2:\n",
    "        return len(A)-2\n",
    "    return minIn"
   ]
  },
  {
   "cell_type": "code",
   "execution_count": 306,
   "id": "42b0a214",
   "metadata": {},
   "outputs": [],
   "source": [
    "# Distinct Compute number of distinct values in an array"
   ]
  },
  {
   "cell_type": "code",
   "execution_count": 307,
   "id": "241a0c05",
   "metadata": {},
   "outputs": [],
   "source": [
    "def dist(A):\n",
    "    collection = set()\n",
    "    for i in A:\n",
    "        collection.add(i)\n",
    "    return len(collection)"
   ]
  },
  {
   "cell_type": "code",
   "execution_count": 309,
   "id": "2af13982",
   "metadata": {},
   "outputs": [
    {
     "data": {
      "text/plain": [
       "3"
      ]
     },
     "execution_count": 309,
     "metadata": {},
     "output_type": "execute_result"
    }
   ],
   "source": [
    "dist([2,1,1,2,3,1])"
   ]
  },
  {
   "cell_type": "code",
   "execution_count": 310,
   "id": "9987a74e",
   "metadata": {},
   "outputs": [],
   "source": [
    "def dist(A):\n",
    "    b= set(A)\n",
    "    return len(b)"
   ]
  },
  {
   "cell_type": "code",
   "execution_count": 312,
   "id": "b49cd206",
   "metadata": {},
   "outputs": [
    {
     "data": {
      "text/plain": [
       "4"
      ]
     },
     "execution_count": 312,
     "metadata": {},
     "output_type": "execute_result"
    }
   ],
   "source": [
    "dist([-3,2,1,1,2,3,1])"
   ]
  },
  {
   "cell_type": "code",
   "execution_count": 313,
   "id": "69987826",
   "metadata": {},
   "outputs": [],
   "source": [
    "# MaxProductOfThree Maximize A[P] * A[Q] * A[R] for any triplet (P, Q, R).\n",
    "# when we sort the sum reduces to multiplying highest 3 \n",
    "# numbers or lowest two and highest numbers"
   ]
  },
  {
   "cell_type": "code",
   "execution_count": 314,
   "id": "81fc0291",
   "metadata": {},
   "outputs": [],
   "source": [
    "def maxProd(A):\n",
    "    A.sort()\n",
    "    N= len(A)\n",
    "    P1= A[N-1]*A[0]*A[1]\n",
    "    P2= A[N-1]*A[N-2]*A[N-3]\n",
    "    return max(P1,P2)"
   ]
  },
  {
   "cell_type": "code",
   "execution_count": 315,
   "id": "a9bf9127",
   "metadata": {},
   "outputs": [],
   "source": [
    "# Triangle Determine whether a triangle can be built from a given set of edge\n",
    "# By sorting first two conditions  A[i+2]+A[i+1]>A[i] and A[i]+A[i+2]>A[i+1] will be automatically taken care of"
   ]
  },
  {
   "cell_type": "code",
   "execution_count": 316,
   "id": "0b70cc65",
   "metadata": {},
   "outputs": [],
   "source": [
    "def triangle(A):\n",
    "    if len(A)<3:\n",
    "        return 0\n",
    "    A.sort()\n",
    "    for i in range(0,len(A)-2):\n",
    "        if A[i]+A[i+1]>A[i+2]:\n",
    "            return 1\n",
    "    return 0"
   ]
  },
  {
   "cell_type": "code",
   "execution_count": 317,
   "id": "18c290b2",
   "metadata": {},
   "outputs": [],
   "source": [
    "# Brackets Determine whether a given string of parentheses (multiple types) is properly nested."
   ]
  },
  {
   "cell_type": "code",
   "execution_count": 341,
   "id": "e82c9472",
   "metadata": {},
   "outputs": [],
   "source": [
    "def nested(S):\n",
    "    stack = []\n",
    "    dictN = {'(':')','{':'}','[':']'}\n",
    "    for i in S:\n",
    "        if i in dict:\n",
    "            stack.append(i)\n",
    "        else:\n",
    "            if len(stack)!=0 and i==dictN[stack[-1]]:\n",
    "                stack.pop()\n",
    "    if len(stack)==0:\n",
    "        return 1\n",
    "    else:\n",
    "        return 0"
   ]
  },
  {
   "cell_type": "code",
   "execution_count": 349,
   "id": "2a201911",
   "metadata": {},
   "outputs": [
    {
     "data": {
      "text/plain": [
       "1"
      ]
     },
     "execution_count": 349,
     "metadata": {},
     "output_type": "execute_result"
    }
   ],
   "source": [
    "nested('())')"
   ]
  },
  {
   "cell_type": "code",
   "execution_count": 344,
   "id": "c2500ccc",
   "metadata": {},
   "outputs": [],
   "source": [
    "def solution(S):\n",
    "    brackets = {\"[\": \"]\", \"(\": \")\", \"{\": \"}\"}\n",
    "    stack = []\n",
    "    for char in S:\n",
    "        if char in brackets.keys():\n",
    "            stack.append(brackets[char])\n",
    "        elif char in brackets.values():\n",
    "            if len(stack) == 0 or stack.pop() != char:\n",
    "                return 0\n",
    "    return 1 if len(stack) == 0 else 0\n"
   ]
  },
  {
   "cell_type": "code",
   "execution_count": 350,
   "id": "a43dd9b3",
   "metadata": {},
   "outputs": [
    {
     "data": {
      "text/plain": [
       "0"
      ]
     },
     "execution_count": 350,
     "metadata": {},
     "output_type": "execute_result"
    }
   ],
   "source": [
    "solution('())')"
   ]
  },
  {
   "cell_type": "code",
   "execution_count": 347,
   "id": "c12a1b41",
   "metadata": {},
   "outputs": [],
   "source": [
    "# Fish"
   ]
  },
  {
   "cell_type": "code",
   "execution_count": 348,
   "id": "b174d9dc",
   "metadata": {},
   "outputs": [],
   "source": [
    "def fish(A,B):\n",
    "    ds = []\n",
    "    c = 0\n",
    "    for i in range(0,len(B)):\n",
    "        if B[i]==1:\n",
    "            ds.append(A[i])\n",
    "        else:\n",
    "            while(len(ds)!=0):\n",
    "                if ds[-1]>A[i]:\n",
    "                    c+=1\n",
    "                    break\n",
    "                elif ds[-1]<A[i]:\n",
    "                    ds.pop()\n",
    "                    c+=1\n",
    "    return len(A)-c"
   ]
  },
  {
   "cell_type": "code",
   "execution_count": 351,
   "id": "b92e231b",
   "metadata": {},
   "outputs": [],
   "source": [
    "# Dominator Find an index of an array such that its value occurs at more than half of indices in the array."
   ]
  },
  {
   "cell_type": "code",
   "execution_count": 388,
   "id": "85d57d87",
   "metadata": {},
   "outputs": [],
   "source": [
    "def dominator(A):\n",
    "    if len(A)<1:\n",
    "        return -1\n",
    "    result = []\n",
    "    seen = []\n",
    "    for i in A:\n",
    "        if i not in seen:\n",
    "            result.append([A.count(i),A.index(i)])\n",
    "            seen.append(i)\n",
    "    result.sort()\n",
    "    if result[-1][0]>len(A)/2:\n",
    "        return result[-1][1]\n",
    "    else:\n",
    "        return -1      "
   ]
  },
  {
   "cell_type": "code",
   "execution_count": 420,
   "id": "10a2ba87",
   "metadata": {},
   "outputs": [],
   "source": [
    "def dominator(A):\n",
    "    if len(A)==0:\n",
    "        return -1\n",
    "    if len(A)==1:\n",
    "        return 0\n",
    "    B= sorted(A)\n",
    "    counter=1\n",
    "    for i in range(1,len(B)):\n",
    "        if B[i]!=B[i-1]:\n",
    "            counter=1\n",
    "        else:\n",
    "            counter+=1\n",
    "        if counter>(len(A)/2):\n",
    "            return A.index(B[i])\n",
    "    return -1"
   ]
  },
  {
   "cell_type": "code",
   "execution_count": 421,
   "id": "76974537",
   "metadata": {},
   "outputs": [
    {
     "data": {
      "text/plain": [
       "0"
      ]
     },
     "execution_count": 421,
     "metadata": {},
     "output_type": "execute_result"
    }
   ],
   "source": [
    "dominator([1,1,2])"
   ]
  },
  {
   "cell_type": "code",
   "execution_count": null,
   "id": "8fff14f2",
   "metadata": {},
   "outputs": [],
   "source": [
    "# EquiLeader Find the index S such that the leaders of the sequences A[0], \n",
    "# A[1], ..., A[S] and A[S + 1], A[S + 2], ..., A[N - 1] are the same."
   ]
  },
  {
   "cell_type": "code",
   "execution_count": 431,
   "id": "8c5f0ae9",
   "metadata": {},
   "outputs": [],
   "source": [
    "def equiLeader(A):\n",
    "    B= sorted(A)\n",
    "    count= 1\n",
    "    leader = None\n",
    "    for i in range(1,len(B)):\n",
    "        if B[i]!=B[i-1]:\n",
    "            count=1\n",
    "        elif B[i]==B[i-1]:\n",
    "            count+=1\n",
    "        if count>int(len(A)/2):\n",
    "            leader=B[i]\n",
    "    leadCount=0\n",
    "    leadCountSofar=0\n",
    "    equiLead=0\n",
    "    for i in A:\n",
    "        if i==leader:\n",
    "            leadCount+=1\n",
    "    for i in range(0,len(A)):\n",
    "        if A[i]==leader:\n",
    "            leadCountSofar+=1\n",
    "        if leadCountSofar>int((i+1)/2) and leadCount-leadCountSofar > int((len(A)-(i+1))/2):\n",
    "            equiLead+=1\n",
    "    return equiLead"
   ]
  },
  {
   "cell_type": "code",
   "execution_count": 432,
   "id": "7ea867cc",
   "metadata": {},
   "outputs": [
    {
     "data": {
      "text/plain": [
       "1"
      ]
     },
     "execution_count": 432,
     "metadata": {},
     "output_type": "execute_result"
    }
   ],
   "source": [
    "equiLeader([1,1,1,1,3,3,3,3,3,3])"
   ]
  },
  {
   "cell_type": "code",
   "execution_count": 433,
   "id": "3466b2ff",
   "metadata": {},
   "outputs": [],
   "source": [
    "# Given a log of stock prices compute the maximum possible earning"
   ]
  },
  {
   "cell_type": "code",
   "execution_count": 568,
   "id": "fab07d75",
   "metadata": {},
   "outputs": [],
   "source": [
    "def maxEarning(A):\n",
    "    maxEarn = max(A)\n",
    "    for i in range(0,len(A)):\n",
    "        for j in range(i+1,len(A)):\n",
    "            diff = A[i]-A[j]\n",
    "            maxEarn=min(maxEarn,diff)\n",
    "    return abs(maxEarn)\n",
    "        \n",
    "        "
   ]
  },
  {
   "cell_type": "code",
   "execution_count": 473,
   "id": "958b4553",
   "metadata": {},
   "outputs": [
    {
     "data": {
      "text/plain": [
       "356"
      ]
     },
     "execution_count": 473,
     "metadata": {},
     "output_type": "execute_result"
    }
   ],
   "source": [
    "maxEarning([23171,21011,21123,21366,21013,21367])"
   ]
  },
  {
   "cell_type": "code",
   "execution_count": 470,
   "id": "5f7682bb",
   "metadata": {},
   "outputs": [],
   "source": [
    "def maxEarning(A):\n",
    "    count = 0\n",
    "    for i in A:\n",
    "        if count== 0 and\n"
   ]
  },
  {
   "cell_type": "code",
   "execution_count": 471,
   "id": "e4e24b45",
   "metadata": {},
   "outputs": [
    {
     "name": "stdout",
     "output_type": "stream",
     "text": [
      "[21011, 21013, 21123, 21366, 21367, 23171]\n"
     ]
    },
    {
     "data": {
      "text/plain": [
       "1804"
      ]
     },
     "execution_count": 471,
     "metadata": {},
     "output_type": "execute_result"
    }
   ],
   "source": [
    "maxEarning([23171,21011,21123,21366,21013,21367])"
   ]
  },
  {
   "cell_type": "code",
   "execution_count": 502,
   "id": "ae0808f3",
   "metadata": {},
   "outputs": [],
   "source": [
    "def maxEarning(A):\n",
    "    if len(A)<2:\n",
    "        return 0\n",
    "    myMin = A[0]\n",
    "    profit = 0\n",
    "    for i in range(0,len(A)-1):\n",
    "        if A[i]<myMin:\n",
    "            myMin=A[i]\n",
    "        diff = A[i+1]-myMin\n",
    "        profit= max(diff,profit)\n",
    "    return profit  "
   ]
  },
  {
   "cell_type": "code",
   "execution_count": 504,
   "id": "7c48f841",
   "metadata": {},
   "outputs": [
    {
     "data": {
      "text/plain": [
       "356"
      ]
     },
     "execution_count": 504,
     "metadata": {},
     "output_type": "execute_result"
    }
   ],
   "source": [
    "maxEarning([23171,21011,21123,21366,21013,21367])"
   ]
  },
  {
   "cell_type": "code",
   "execution_count": 505,
   "id": "d4a6f5dc",
   "metadata": {},
   "outputs": [],
   "source": [
    "# MaxSliceSum Find a maximum sum of a compact subsequence of array elements."
   ]
  },
  {
   "cell_type": "code",
   "execution_count": 508,
   "id": "a9d30ff6",
   "metadata": {},
   "outputs": [],
   "source": [
    "def tapeEqiGit(A):\n",
    "    sum_left = 0\n",
    "    sum_right = sum(A)\n",
    "    best = None\n",
    "    for i in range(0,len(A)-1):\n",
    "        sum_left+=A[i]\n",
    "        sum_right-=A[i]\n",
    "        diff = sum_right\n",
    "        best = diff if best is None or diff> best else best\n",
    "    return best"
   ]
  },
  {
   "cell_type": "code",
   "execution_count": 509,
   "id": "e3923ab3",
   "metadata": {},
   "outputs": [
    {
     "data": {
      "text/plain": [
       "4"
      ]
     },
     "execution_count": 509,
     "metadata": {},
     "output_type": "execute_result"
    }
   ],
   "source": [
    "tapeEqiGit([3,2,-6,4,0])"
   ]
  },
  {
   "cell_type": "code",
   "execution_count": 510,
   "id": "868baf38",
   "metadata": {},
   "outputs": [],
   "source": [
    "#Kadane Algorithm MaxSliceSum Find a maximum sum of a compact subsequence of array elements"
   ]
  },
  {
   "cell_type": "code",
   "execution_count": 511,
   "id": "c7abdce6",
   "metadata": {},
   "outputs": [],
   "source": [
    "def maxSliceSum(A):\n",
    "    max_ending_here = A[0]\n",
    "    max_slice = A[0]\n",
    "    for i in A[1:]:\n",
    "        max_ending_here= max(i,max_ending_here+i)\n",
    "        max_slice= max(max_slice,max_ending_here)\n",
    "    return max_slice"
   ]
  },
  {
   "cell_type": "code",
   "execution_count": 512,
   "id": "ef0ef72b",
   "metadata": {},
   "outputs": [],
   "source": [
    "# CountFactors Count factors of given number n"
   ]
  },
  {
   "cell_type": "code",
   "execution_count": 544,
   "id": "d7cde0fc",
   "metadata": {},
   "outputs": [],
   "source": [
    "import math\n",
    "def factors(N):\n",
    "    count=0\n",
    "    for i in range(1,int(math.sqrt(N))+1):\n",
    "        if N%i==0:\n",
    "            count+=1\n",
    "    if N==int(math.sqrt(N))*int(math.sqrt(N)):\n",
    "        return 2*count-1\n",
    "    else:\n",
    "        return 2*count"
   ]
  },
  {
   "cell_type": "code",
   "execution_count": 545,
   "id": "0e0c7880",
   "metadata": {},
   "outputs": [
    {
     "data": {
      "text/plain": [
       "2"
      ]
     },
     "execution_count": 545,
     "metadata": {},
     "output_type": "execute_result"
    }
   ],
   "source": [
    "factors(41)"
   ]
  },
  {
   "cell_type": "code",
   "execution_count": 546,
   "id": "71ffa706",
   "metadata": {},
   "outputs": [],
   "source": [
    "# MinPerimeterRectangle Find the minimal perimeter of any rectangle whose area equals N."
   ]
  },
  {
   "cell_type": "code",
   "execution_count": 548,
   "id": "37352b87",
   "metadata": {},
   "outputs": [],
   "source": [
    "import math\n",
    "def minPeriRect(N):\n",
    "    for i in range(int(math.sqrt(N)),0,-1):\n",
    "        if N%i==0:\n",
    "            return int(2*(i+N/i))"
   ]
  },
  {
   "cell_type": "code",
   "execution_count": 549,
   "id": "1eb21289",
   "metadata": {},
   "outputs": [],
   "source": [
    "# ChocolatesByNumbers There are N chocolates in a circle. Count the number of chocolates you will eat\n",
    "# least common multiple = a*b/ greatest common divisor\n",
    "# the problem boils down to finding the least commom multiple of chocolates and steps\n",
    "# and dividing it by the number of steps\n",
    "#(N*M/gcd(N,M))/M)"
   ]
  },
  {
   "cell_type": "code",
   "execution_count": 554,
   "id": "0d8cb276",
   "metadata": {},
   "outputs": [],
   "source": [
    "# To find gcd of n,m\n",
    "def gcd(a,b):\n",
    "    if (a%b)==0:\n",
    "        return b\n",
    "    else:\n",
    "        return gcd(b,a%b)\n",
    "def chocoNum(N,M):\n",
    "    result =int(N*M/gcd(N,M)/M)\n",
    "    return result"
   ]
  },
  {
   "cell_type": "code",
   "execution_count": 555,
   "id": "ddd84cda",
   "metadata": {},
   "outputs": [],
   "source": [
    "# AbsDistinct Compute number of distinct absolute values of sorted array elements"
   ]
  },
  {
   "cell_type": "code",
   "execution_count": 557,
   "id": "1a0a1ab5",
   "metadata": {},
   "outputs": [],
   "source": [
    "def absDistinct(A):\n",
    "    B = []\n",
    "    for i in A:\n",
    "        B.append(abs(i))\n",
    "    C= set(B)\n",
    "    return len(C)\n",
    "        "
   ]
  },
  {
   "cell_type": "code",
   "execution_count": 558,
   "id": "c472d1c2",
   "metadata": {},
   "outputs": [
    {
     "data": {
      "text/plain": [
       "5"
      ]
     },
     "execution_count": 558,
     "metadata": {},
     "output_type": "execute_result"
    }
   ],
   "source": [
    "absDistinct([-5,-3,-1,0,3,6])"
   ]
  },
  {
   "cell_type": "code",
   "execution_count": 559,
   "id": "ecc4a03c",
   "metadata": {},
   "outputs": [],
   "source": [
    "# CountTriangles"
   ]
  },
  {
   "cell_type": "code",
   "execution_count": 564,
   "id": "be2f7f5e",
   "metadata": {},
   "outputs": [],
   "source": [
    "def countTriangles(A):\n",
    "    count=0\n",
    "    if len(A)<3:\n",
    "        return 0\n",
    "    A.sort()\n",
    "    for i in range(0,len(A)-2):\n",
    "        if A[i]+A[i+1]>A[i+2]:\n",
    "            count+=1\n",
    "    return int(2*count)\n",
    "    "
   ]
  },
  {
   "cell_type": "code",
   "execution_count": 565,
   "id": "6f36cbb6",
   "metadata": {},
   "outputs": [
    {
     "data": {
      "text/plain": [
       "4"
      ]
     },
     "execution_count": 565,
     "metadata": {},
     "output_type": "execute_result"
    }
   ],
   "source": [
    "countTriangles([10,2,5,1,8,12])"
   ]
  },
  {
   "cell_type": "code",
   "execution_count": 566,
   "id": "7266c9bc",
   "metadata": {},
   "outputs": [],
   "source": [
    "def func(A):\n",
    "    count = -1\n",
    "    for i in range(0,len(A)):\n",
    "        s=A[i]\n",
    "        for j in range(i+1,len(A)):\n",
    "            if(A[j]>=0):\n",
    "                s=s+A[j]\n",
    "                if(s>count):\n",
    "                    count=s\n",
    "            else:\n",
    "                break\n",
    "    return count\n",
    "                "
   ]
  },
  {
   "cell_type": "code",
   "execution_count": 567,
   "id": "843a1157",
   "metadata": {},
   "outputs": [],
   "source": [
    "# you can write to stdout for debugging purposes, e.g.\n",
    "# print(\"this is a debug message\")\n",
    "\n",
    "def solution(A):\n",
    "    # write your code in Python 3.8.10\n",
    "    count =-1\n",
    "    i=0\n",
    "    while (i < len(A)):\n",
    "        s=A[i]\n",
    "        j=i+1\n",
    "        while (j<len(A)):\n",
    "            if (A[j]>=0):\n",
    "                s=s+A[j]\n",
    "                if (s>count):\n",
    "                    count=s\n",
    "            else:\n",
    "                break\n",
    "            j+=1\n",
    "        i+=1\n",
    "    return count\n",
    "    \n"
   ]
  },
  {
   "cell_type": "code",
   "execution_count": 569,
   "id": "46e3b242",
   "metadata": {},
   "outputs": [
    {
     "ename": "SyntaxError",
     "evalue": "invalid syntax (3748190540.py, line 1)",
     "output_type": "error",
     "traceback": [
      "\u001b[1;36m  Input \u001b[1;32mIn [569]\u001b[1;36m\u001b[0m\n\u001b[1;33m    // you can also use imports, for example:\u001b[0m\n\u001b[1;37m    ^\u001b[0m\n\u001b[1;31mSyntaxError\u001b[0m\u001b[1;31m:\u001b[0m invalid syntax\n"
     ]
    }
   ],
   "source": [
    "// you can also use imports, for example:\n",
    "// import java.util.*;\n",
    "\n",
    "// you can write to stdout for debugging purposes, e.g.\n",
    "// System.out.println(\"this is a debug message\");\n",
    "\n",
    "class Solution {\n",
    "    public int solution(int[] A) {\n",
    "        // write your code in Java SE \n",
    "        int max=-1;\n",
    "        for(int i=0;i<A.length;i++)\n",
    "        {\n",
    "            int s=A[i];\n",
    "            for(int j=i+1;j<A.length;j++)\n",
    "            {\n",
    "                if(A[j]>=0)\n",
    "                {\n",
    "                    s=s+A[j];\n",
    "                    if(s>max)\n",
    "                    max=s;\n",
    "                }\n",
    "                else\n",
    "                {\n",
    "                    break;\n",
    "                }\n",
    "            }\n",
    "        }\n",
    "    return max;\n",
    "    }  \n",
    "}"
   ]
  },
  {
   "cell_type": "code",
   "execution_count": 570,
   "id": "4f775528",
   "metadata": {},
   "outputs": [],
   "source": [
    "def solution(A, K):\n",
    "    n = len(A)\n",
    "    for i in range(n - 1):\n",
    "        if (A[i] + 1 < A[i + 1]):\n",
    "            return False\n",
    "    if (A[0] != 1 and A[n - 1] != K):\n",
    "        return False\n",
    "    else:\n",
    "        return True\n"
   ]
  },
  {
   "cell_type": "code",
   "execution_count": 585,
   "id": "528dead8",
   "metadata": {},
   "outputs": [],
   "source": [
    "def func(A,K):\n",
    "    s=set()\n",
    "    n= len(A)\n",
    "    sList= list(range(1,K+1))\n",
    "    print(sList)\n",
    "    for i in range(0,len(A)):\n",
    "        if A[i]<=K:\n",
    "            s.add(A[i])\n",
    "    print(s)\n",
    "    if set(s)==sList:\n",
    "        return True\n",
    "    else:\n",
    "        return False\n",
    "            "
   ]
  },
  {
   "cell_type": "code",
   "execution_count": 586,
   "id": "1f88d1fe",
   "metadata": {},
   "outputs": [
    {
     "name": "stdout",
     "output_type": "stream",
     "text": [
      "[1, 2, 3]\n",
      "{1, 2, 3}\n"
     ]
    },
    {
     "data": {
      "text/plain": [
       "False"
      ]
     },
     "execution_count": 586,
     "metadata": {},
     "output_type": "execute_result"
    }
   ],
   "source": [
    "func([1,1,2,3,3],3)"
   ]
  },
  {
   "cell_type": "code",
   "execution_count": null,
   "id": "b59ab9de",
   "metadata": {},
   "outputs": [],
   "source": []
  }
 ],
 "metadata": {
  "kernelspec": {
   "display_name": "Python 3 (ipykernel)",
   "language": "python",
   "name": "python3"
  },
  "language_info": {
   "codemirror_mode": {
    "name": "ipython",
    "version": 3
   },
   "file_extension": ".py",
   "mimetype": "text/x-python",
   "name": "python",
   "nbconvert_exporter": "python",
   "pygments_lexer": "ipython3",
   "version": "3.9.12"
  }
 },
 "nbformat": 4,
 "nbformat_minor": 5
}
